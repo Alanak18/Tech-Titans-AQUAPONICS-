{
 "cells": [
  {
   "cell_type": "code",
   "execution_count": null,
   "id": "c5f1f5ce-7233-49c3-ae21-475e9837122f",
   "metadata": {},
   "outputs": [],
   "source": [
    "#generating a window\n",
    "window_cnn = WindowGenerator(input_width=FORECAST_WINDOW+2, label_width=FORECAST_WINDOW, shift=FORECAST_SHIFT,\n",
    "                             train_data=train_data, val_data=val_data, test_data=test_data, label_columns=TARGET_LABELS)\n",
    "window_cnn"
   ]
  },
  {
   "cell_type": "code",
   "execution_count": null,
   "id": "acf5d7e1-b1a8-4f0d-8062-241146c8238d",
   "metadata": {},
   "outputs": [],
   "source": [
    "for example_inputs, example_labels in window_cnn.train.take(1):\n",
    "  print(f'Inputs shape (batch, time, features): {example_inputs.shape}')\n",
    "  print(f'Labels shape (batch, time, features): {example_labels.shape}')"
   ]
  },
  {
   "cell_type": "code",
   "execution_count": null,
   "id": "68c457e8-222e-4165-a1c6-9bd337329e21",
   "metadata": {},
   "outputs": [],
   "source": [
    "def create_conv_model(input_shape=(FORECAST_WINDOW+2, 8)):\n",
    "    inputs = kl.Input(shape=input_shape)\n",
    "    conv1 = kl.Conv1D(filters=64, kernel_size=CONV_WIDTH, strides=1, activation=\"selu\", padding=\"same\")(inputs)\n",
    "    pool1 = kl.MaxPool1D(pool_size=3, strides=1)(conv1)\n",
    "    conv3 = kl.Conv1D(filters=128, kernel_size=3, strides=1, activation=\"selu\", padding=\"same\")(pool1)\n",
    "    dense1 = kl.Dense(units=64)(conv3)\n",
    "    dense1 = kl.PReLU()(dense1)\n",
    "    dense1 = kl.Dropout(rate=0.3)(dense1)\n",
    "    dense2 = kl.Dense(units=16)(dense1)\n",
    "    dense2 = kl.PReLU()(dense2)\n",
    "    dense2 = kl.Dropout(rate=0.3)(dense2)\n",
    "    outputs = kl.Dense(units=len(TARGET_LABELS))(dense2)\n",
    "\n",
    "    model = Model(inputs=inputs, outputs=outputs)\n",
    "    model.compile(optimizer=\"adam\", loss=tf.keras.losses.MeanSquaredError(), metrics=[tf.keras.metrics.MeanAbsoluteError()])\n",
    "\n",
    "    return model\n",
    "conv_model = create_conv_model()\n",
    "conv_model.summary()"
   ]
  },
  {
   "cell_type": "code",
   "execution_count": null,
   "id": "3bf2c548-41c4-411b-a58e-c8be8d945a24",
   "metadata": {},
   "outputs": [],
   "source": [
    "reduce_lr = tf.keras.callbacks.ReduceLROnPlateau(patience=2)\n",
    "history = conv_model.fit(window_cnn.train, epochs=10, validation_data=window_cnn.val, callbacks=[reduce_lr])"
   ]
  },
  {
   "cell_type": "code",
   "execution_count": null,
   "id": "3bcc3f08-be9f-4e4c-9d34-499954f6e00f",
   "metadata": {},
   "outputs": [],
   "source": [
    "plot_history(history.history)"
   ]
  },
  {
   "cell_type": "code",
   "execution_count": null,
   "id": "7f4d7696-c230-4961-82b9-1bc59be824e1",
   "metadata": {},
   "outputs": [],
   "source": [
    "window_cnn.plot(conv_model, plot_col=TARGET_LABELS[2])"
   ]
  },
  {
   "cell_type": "code",
   "execution_count": null,
   "id": "28af156e-aca4-4baf-861e-1e3411c90a02",
   "metadata": {},
   "outputs": [],
   "source": []
  },
  {
   "cell_type": "code",
   "execution_count": null,
   "id": "6dce355e-a308-4835-bcb6-220a4b535b9f",
   "metadata": {},
   "outputs": [],
   "source": []
  }
 ],
 "metadata": {
  "kernelspec": {
   "display_name": "Python 3 (ipykernel)",
   "language": "python",
   "name": "python3"
  },
  "language_info": {
   "codemirror_mode": {
    "name": "ipython",
    "version": 3
   },
   "file_extension": ".py",
   "mimetype": "text/x-python",
   "name": "python",
   "nbconvert_exporter": "python",
   "pygments_lexer": "ipython3",
   "version": "3.12.4"
  }
 },
 "nbformat": 4,
 "nbformat_minor": 5
}
