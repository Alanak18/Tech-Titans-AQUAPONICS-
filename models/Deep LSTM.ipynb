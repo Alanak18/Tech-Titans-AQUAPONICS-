{
 "cells": [
  {
   "cell_type": "code",
   "execution_count": null,
   "id": "6e1ac719-ed37-48d4-b469-b90de61a71cc",
   "metadata": {},
   "outputs": [],
   "source": [
    "#generating a window\n",
    "window_rnn = WindowGenerator(input_width=FORECAST_WINDOW, label_width=FORECAST_WINDOW, shift=FORECAST_SHIFT,\n",
    "                              train_data=train_data, val_data=val_data, test_data=test_data, label_columns=TARGET_LABELS)\n",
    "window_rnn"
   ]
  },
  {
   "cell_type": "code",
   "execution_count": null,
   "id": "bcd78202-de81-49d7-b347-32ebdefb5388",
   "metadata": {},
   "outputs": [],
   "source": [
    "for example_inputs, example_labels in window_rnn.train.take(1):\n",
    "  print(f'Inputs shape (batch, time, features): {example_inputs.shape}')\n",
    "  print(f'Labels shape (batch, time, features): {example_labels.shape}')"
   ]
  },
  {
   "cell_type": "code",
   "execution_count": null,
   "id": "ab70631f-d2e7-4b6e-bd49-8e4f83b12921",
   "metadata": {},
   "outputs": [],
   "source": []
  },
  {
   "cell_type": "code",
   "execution_count": null,
   "id": "bcd5eb95-9aa1-437d-8e4e-325342864be0",
   "metadata": {},
   "outputs": [],
   "source": []
  }
 ],
 "metadata": {
  "kernelspec": {
   "display_name": "Python 3 (ipykernel)",
   "language": "python",
   "name": "python3"
  },
  "language_info": {
   "codemirror_mode": {
    "name": "ipython",
    "version": 3
   },
   "file_extension": ".py",
   "mimetype": "text/x-python",
   "name": "python",
   "nbconvert_exporter": "python",
   "pygments_lexer": "ipython3",
   "version": "3.12.4"
  }
 },
 "nbformat": 4,
 "nbformat_minor": 5
}
